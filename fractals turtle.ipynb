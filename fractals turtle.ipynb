{
 "cells": [
  {
   "cell_type": "code",
   "execution_count": null,
   "metadata": {},
   "outputs": [],
   "source": []
  },
  {
   "cell_type": "code",
   "execution_count": 3,
   "metadata": {},
   "outputs": [],
   "source": [
    "#fractals\n",
    "import turtle\n",
    "x=turtle.Turtle()\n",
    "points=[[0,75],\n",
    "       [-125,-175],\n",
    "       [125,-175]]\n",
    "\n",
    "def getmid(p1,p2):\n",
    "    return ((p1[0]+p2[0])/2, (p1[1]+p2[1])/2)\n",
    "\n",
    "def triangle(points,n):\n",
    "    x.penup()\n",
    "    x.goto(points[0][0],points[0][1])\n",
    "    x.pendown()\n",
    "    x.goto(points[1][0],points[1][1])\n",
    "    x.goto(points[2][0],points[2][1])\n",
    "    x.goto(points[0][0],points[0][1])\n",
    "    if n>0:\n",
    "        newcor= [points[0],\n",
    "                getmid(points[0],points[1]),\n",
    "                getmid(points[0],points[2])]\n",
    "        \n",
    "        triangle(newcor,n-1)\n",
    "        #########################################\n",
    "        newcor= [points[1],\n",
    "                getmid(points[0],points[1]),\n",
    "                getmid(points[1],points[2])]\n",
    "        \n",
    "        triangle(newcor,n-1)\n",
    "        ########################################\n",
    "        newcor= [points[2],\n",
    "                getmid(points[2],points[1]),\n",
    "                getmid(points[0],points[2])]\n",
    "        \n",
    "        triangle(newcor,n-1)\n",
    "    \n",
    "\n",
    "triangle(points,5)\n",
    "turtle.done()                 "
   ]
  },
  {
   "cell_type": "code",
   "execution_count": null,
   "metadata": {},
   "outputs": [],
   "source": []
  }
 ],
 "metadata": {
  "kernelspec": {
   "display_name": "Python 3",
   "language": "python",
   "name": "python3"
  },
  "language_info": {
   "codemirror_mode": {
    "name": "ipython",
    "version": 3
   },
   "file_extension": ".py",
   "mimetype": "text/x-python",
   "name": "python",
   "nbconvert_exporter": "python",
   "pygments_lexer": "ipython3",
   "version": "3.7.4"
  },
  "latex_envs": {
   "LaTeX_envs_menu_present": true,
   "autoclose": false,
   "autocomplete": true,
   "bibliofile": "biblio.bib",
   "cite_by": "apalike",
   "current_citInitial": 1,
   "eqLabelWithNumbers": true,
   "eqNumInitial": 1,
   "hotkeys": {
    "equation": "Ctrl-E",
    "itemize": "Ctrl-I"
   },
   "labels_anchors": false,
   "latex_user_defs": false,
   "report_style_numbering": false,
   "user_envs_cfg": false
  },
  "toc": {
   "base_numbering": 1,
   "nav_menu": {},
   "number_sections": true,
   "sideBar": true,
   "skip_h1_title": false,
   "title_cell": "Table of Contents",
   "title_sidebar": "Contents",
   "toc_cell": false,
   "toc_position": {},
   "toc_section_display": true,
   "toc_window_display": false
  },
  "varInspector": {
   "cols": {
    "lenName": 16,
    "lenType": 16,
    "lenVar": 40
   },
   "kernels_config": {
    "python": {
     "delete_cmd_postfix": "",
     "delete_cmd_prefix": "del ",
     "library": "var_list.py",
     "varRefreshCmd": "print(var_dic_list())"
    },
    "r": {
     "delete_cmd_postfix": ") ",
     "delete_cmd_prefix": "rm(",
     "library": "var_list.r",
     "varRefreshCmd": "cat(var_dic_list()) "
    }
   },
   "types_to_exclude": [
    "module",
    "function",
    "builtin_function_or_method",
    "instance",
    "_Feature"
   ],
   "window_display": false
  }
 },
 "nbformat": 4,
 "nbformat_minor": 2
}
