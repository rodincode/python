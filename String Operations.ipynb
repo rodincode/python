{
 "cells": [
  {
   "cell_type": "code",
   "execution_count": 2,
   "metadata": {},
   "outputs": [
    {
     "name": "stdout",
     "output_type": "stream",
     "text": [
      "MICHAEL\n"
     ]
    }
   ],
   "source": [
    "#Substrings\n",
    "name=\"Michael\"\n",
    "name=name.upper()\n",
    "print(name)"
   ]
  },
  {
   "cell_type": "code",
   "execution_count": 3,
   "metadata": {},
   "outputs": [
    {
     "name": "stdout",
     "output_type": "stream",
     "text": [
      "michael\n"
     ]
    }
   ],
   "source": [
    "name=name.lower()\n",
    "print(name)"
   ]
  },
  {
   "cell_type": "code",
   "execution_count": 4,
   "metadata": {},
   "outputs": [
    {
     "name": "stdout",
     "output_type": "stream",
     "text": [
      "Michael\n"
     ]
    }
   ],
   "source": [
    "name=name.capitalize()\n",
    "print(name)"
   ]
  },
  {
   "cell_type": "code",
   "execution_count": 5,
   "metadata": {},
   "outputs": [
    {
     "data": {
      "text/plain": [
       "False"
      ]
     },
     "execution_count": 5,
     "metadata": {},
     "output_type": "execute_result"
    }
   ],
   "source": [
    "x=\"123@haha\"\n",
    "x.isdigit()"
   ]
  },
  {
   "cell_type": "code",
   "execution_count": 6,
   "metadata": {},
   "outputs": [
    {
     "data": {
      "text/plain": [
       "False"
      ]
     },
     "execution_count": 6,
     "metadata": {},
     "output_type": "execute_result"
    }
   ],
   "source": [
    "x.endswith('w')"
   ]
  },
  {
   "cell_type": "code",
   "execution_count": 8,
   "metadata": {},
   "outputs": [
    {
     "name": "stdout",
     "output_type": "stream",
     "text": [
      "['wghjcb', 'wa', 'ferg', 'jeng', 'kng', '3qn', 'f', 'q3f', 'q3', 'q3fjq3', 'fkwjfh', 'aknvaei', 'iev', 'vhvvia', 'v', 'wv', 'av', 'hwv', 'hiv']\n"
     ]
    },
    {
     "data": {
      "text/plain": [
       "list"
      ]
     },
     "execution_count": 8,
     "metadata": {},
     "output_type": "execute_result"
    }
   ],
   "source": [
    "anything=\"wghjcb wa  ferg jeng kng 3qn f q3f q3  q3fjq3 fkwjfh aknvaei iev  vhvvia v wv av hwv hiv\"\n",
    "anything=anything.split()\n",
    "print(anything)\n",
    "type(anything)"
   ]
  },
  {
   "cell_type": "code",
   "execution_count": 25,
   "metadata": {},
   "outputs": [],
   "source": [
    "song =\"Dancing, dancing, dancing \\\n",
    "She's a dancing machine \\\n",
    "Ah babe \\\n",
    "Move it baby \\\n",
    "Automatic Systematic \\\n",
    "Full of color self contained \\\n",
    "Tuned and channeled to your vibes \\\n",
    "Captivating Stimulating \\\n",
    "She such a sexy lady \\\n",
    "Built with space age design \\\n",
    "Shes moving grooving dancing to the music stop now \\\n",
    "Yeah \\\n",
    "Rhythmic acrobatic \\\n",
    "She a dynamite attraction \\\n",
    "At the drop of a coin she comes alive now \\\n",
    "She knows what shes doing \\\n",
    "She super bad now \\\n",
    "She's geared to really blow your mind \""
   ]
  },
  {
   "cell_type": "code",
   "execution_count": 21,
   "metadata": {},
   "outputs": [
    {
     "name": "stdout",
     "output_type": "stream",
     "text": [
      "['Dancing,', 'dancing,', 'dancing', \"She's\", 'a', 'dancing', 'machine', 'Ah', 'babe', 'Move', 'it', 'baby', 'Automatic', 'Systematic', 'Full', 'of', 'color', 'self', 'contained', 'Tuned', 'and', 'channeled', 'to', 'your', 'vibes', 'Captivating', 'Stimulating', 'She', 'such', 'a', 'sexy', 'lady', 'Built', 'with', 'space', 'age', 'design', 'Shes', 'moving', 'grooving', 'dancing', 'to', 'the', 'music', 'stop', 'now', 'Yeah', 'Rhythmic', 'acrobatic', 'She', 'a', 'dynamite', 'attraction', 'At', 'the', 'drop', 'of', 'a', 'coin', 'she', 'comes', 'alive', 'now', 'She', 'knows', 'what', 'shes', 'doing', 'She', 'super', 'bad', 'now', \"She's\", 'geared', 'to', 'really', 'blow', 'your', 'mind']\n"
     ]
    }
   ],
   "source": [
    "words=song.split()\n",
    "print(words)"
   ]
  },
  {
   "cell_type": "code",
   "execution_count": 22,
   "metadata": {},
   "outputs": [
    {
     "data": {
      "text/plain": [
       "1"
      ]
     },
     "execution_count": 22,
     "metadata": {},
     "output_type": "execute_result"
    }
   ],
   "source": [
    "words.count(\"what\")"
   ]
  },
  {
   "cell_type": "code",
   "execution_count": 26,
   "metadata": {},
   "outputs": [
    {
     "name": "stdout",
     "output_type": "stream",
     "text": [
      "['D', 'ncing, d', 'ncing, d', \"ncing She's \", ' d', 'ncing m', 'chine Ah b', 'be Move it b', 'by Autom', 'tic System', 'tic Full of color self cont', 'ined Tuned ', 'nd ch', 'nneled to your vibes C', 'ptiv', 'ting Stimul', 'ting She such ', ' sexy l', 'dy Built with sp', 'ce ', 'ge design Shes moving grooving d', 'ncing to the music stop now Ye', 'h Rhythmic ', 'crob', 'tic She ', ' dyn', 'mite ', 'ttr', 'ction At the drop of ', ' coin she comes ', 'live now She knows wh', 't shes doing She super b', \"d now She's ge\", 'red to re', 'lly blow your mind ']\n"
     ]
    }
   ],
   "source": [
    "words2=song.split(\"a\")\n",
    "print(words2)"
   ]
  },
  {
   "cell_type": "code",
   "execution_count": 30,
   "metadata": {},
   "outputs": [
    {
     "data": {
      "text/plain": [
       "\"Dancing, dancing, dancing Modiji's a dancing machine Ah babe Move it baby Automatic Systematic Full of color self contained Tuned and channeled to your vibes Captivating Stimulating Modiji such a sexy lady Built with space age design Modijis moving grooving dancing to the music stop now Yeah Rhythmic acrobatic Modiji a dynamite attraction At the drop of a coin she comes alive now Modiji knows what shes doing Modiji super bad now Modiji's geared to really blow your mind \""
      ]
     },
     "execution_count": 30,
     "metadata": {},
     "output_type": "execute_result"
    }
   ],
   "source": [
    "x=song.replace(\"She\",\"Modiji\")\n",
    "print(x)"
   ]
  },
  {
   "cell_type": "code",
   "execution_count": 31,
   "metadata": {},
   "outputs": [
    {
     "name": "stdout",
     "output_type": "stream",
     "text": [
      "answo\n"
     ]
    }
   ],
   "source": [
    "r= \"rohansworkid@gmail.com\"\n",
    "print(r[3:8])"
   ]
  },
  {
   "cell_type": "code",
   "execution_count": 32,
   "metadata": {},
   "outputs": [
    {
     "name": "stdout",
     "output_type": "stream",
     "text": [
      "Enter a word to check:: noon\n",
      "Ofcourse Bro, Its a Palimdrome\n"
     ]
    }
   ],
   "source": [
    "'''A palindrome is a word or phrase that is exactly the same when written forwards or\n",
    "backwards. Eg “noon”, “Dammit I'm mad!” (if you ignore the punctuation). Design and\n",
    "write a program that ascertains whether a word or phrase entered by the user is a\n",
    "palindrome'''\n",
    "\n",
    "palim=input(\"Enter a word to check:: \")\n",
    "if palim[::1]==palim[::-1]:\n",
    "    print(\"Ofcourse Bro, Its a Palimdrome\")\n",
    "else:\n",
    "    print(\"Nope!\")"
   ]
  },
  {
   "cell_type": "code",
   "execution_count": 36,
   "metadata": {},
   "outputs": [
    {
     "data": {
      "text/plain": [
       "'inhaSnahoR'"
      ]
     },
     "execution_count": 36,
     "metadata": {},
     "output_type": "execute_result"
    }
   ],
   "source": [
    "name=\"RohanSahni\"\n",
    "name[::-1]"
   ]
  },
  {
   "cell_type": "code",
   "execution_count": 1,
   "metadata": {},
   "outputs": [],
   "source": [
    "f = open(\"testing.txt\",\"w\")\n",
    "f.write(\"Hello Okay Dont rename me!\")\n",
    "f.close()\n"
   ]
  },
  {
   "cell_type": "code",
   "execution_count": null,
   "metadata": {},
   "outputs": [],
   "source": []
  }
 ],
 "metadata": {
  "kernelspec": {
   "display_name": "Python 3",
   "language": "python",
   "name": "python3"
  },
  "language_info": {
   "codemirror_mode": {
    "name": "ipython",
    "version": 3
   },
   "file_extension": ".py",
   "mimetype": "text/x-python",
   "name": "python",
   "nbconvert_exporter": "python",
   "pygments_lexer": "ipython3",
   "version": "3.7.4"
  },
  "latex_envs": {
   "LaTeX_envs_menu_present": true,
   "autoclose": false,
   "autocomplete": true,
   "bibliofile": "biblio.bib",
   "cite_by": "apalike",
   "current_citInitial": 1,
   "eqLabelWithNumbers": true,
   "eqNumInitial": 1,
   "hotkeys": {
    "equation": "Ctrl-E",
    "itemize": "Ctrl-I"
   },
   "labels_anchors": false,
   "latex_user_defs": false,
   "report_style_numbering": false,
   "user_envs_cfg": false
  },
  "toc": {
   "base_numbering": 1,
   "nav_menu": {},
   "number_sections": true,
   "sideBar": true,
   "skip_h1_title": false,
   "title_cell": "Table of Contents",
   "title_sidebar": "Contents",
   "toc_cell": false,
   "toc_position": {},
   "toc_section_display": true,
   "toc_window_display": false
  },
  "varInspector": {
   "cols": {
    "lenName": 16,
    "lenType": 16,
    "lenVar": 40
   },
   "kernels_config": {
    "python": {
     "delete_cmd_postfix": "",
     "delete_cmd_prefix": "del ",
     "library": "var_list.py",
     "varRefreshCmd": "print(var_dic_list())"
    },
    "r": {
     "delete_cmd_postfix": ") ",
     "delete_cmd_prefix": "rm(",
     "library": "var_list.r",
     "varRefreshCmd": "cat(var_dic_list()) "
    }
   },
   "types_to_exclude": [
    "module",
    "function",
    "builtin_function_or_method",
    "instance",
    "_Feature"
   ],
   "window_display": false
  }
 },
 "nbformat": 4,
 "nbformat_minor": 2
}
