{
 "cells": [
  {
   "cell_type": "code",
   "execution_count": 2,
   "metadata": {
    "collapsed": true
   },
   "outputs": [
    {
     "name": "stdout",
     "output_type": "stream",
     "text": [
      "DNNDIONRNIINRDDDRRDRIDORRODRNDDIRDNRDOOOONRIONINONROINDNIDINDODOOIOROIOIOIRIOINRODDDINIINRDODDONIRNDIDDRNDRNIRNIRNORNOIINRDDDNROOOONONRDNRIORNRDIRORNOORODIIDNNNROOODNONOORNONRRIRNIDIINRIRORONINORIOIIDDORIOIIRDODDOIODIIRRINDINNIIRNRRNRROONIRNIRDRIINOIIORRIORNODIINDINNOIDNDDINRNNIINIIRRNODNDNNIIONDNDIDONDODDRNNIRRIDNONRDRRIIIRNNNDIODDRRDRIRNNIOINRRORIDDNNNIONRDOIRDNDIORONRIINODRRIDINIIROOIRIRNDDIOOIOIDRRDRRORRINIROORIRRDRDRRNIDNDRIONDOIOOOIININDOORRRRDRNOORNNNIONODDRDINRDOROODOIINDRNNRIRIDONOODNRIRINDIOOOIIRDOODODNRRRIDINNDNINDNIDDODONNIRRDINROIOORNDNDNOIRIOOIIDIIOONDNDROODDRORNROORNIRDNORODDNDODROOODDOODINRORODIDOIOORNIRDIIDRNODDOIOOIOONONOONNIDNNONOROIIONRINONRODIIOODDDDIORNRONDOOONINDDNINRORRDNDINDRRRRNOODRDOINNNNOIIIIDRRRRINRINRRIDINOIIIDDDOONNIIODRIOIIDNOORINRDIDOONNIRNIOIIIDRNOOOOIRINDRIIDOIRRONRIDIDRNIDDODIRDNIRDDDNODOOIIIDDNRIRNROOINRDDNNDNIOINDONODRDDIRNOIRINRNDDORRRINNOOORRDNNIRDDORODODIRIRDDINDRRROIIIIRDOONRDNORDINROORRRDOIRRONDIINIORORRDINDDDNOINNNIORNDDNOIINRNDNONDNIIIORIDRDINNDNRDNIDNDOODIRINRDNNRNIODIDDIORIDRNNIODOINRNIRNRRNORDROIINIIDROIDRRRODRDOORIIIIOROIORNOOOORIIOONNDNRDIODNONDRROIRODNIRDRRIDDRINOORROINODONIIONIDINDIIDNDIRRNOIDNNNININONONOINOORIDDDOOORORONRONIIRIOORIONNNIORDONRRNDORDIRIIDRRNRIRRODRIDRNNNIODDNODIDODOROOINNNIRODROINRORIRIOOONODDIDIIDDDRDDODDDNDODDODRNINIDRRIDDRIRIRNIRNRNOOORIRRNNDDRONNINDONDIORIONOONORONIRODOIDODIOIRNDINRORRONDDINRDINRNDOOODROORINIDRRNROOIOIDDIOIIRIIRONOIINDRNNONNNDINNNOIROOONINIOIRODNDOOIIIIIOIIDROOIONOOODONNORNRORNRRNRRRORDONDINIIONDIIORONDNDRNOINDDIOIORDORDDDORNINIONRRRROIRINNDONIOORNOIIIDOOIRNROIOIIORIIDDNODNDIDNIONIDININDIDRRNDNDRIINNIIIODIRORDDIODIOIDONDRRINNDRDDOODDNIIIIRRRDRRDIODONDRDRONRIDNIORDIDIDOORDRIOIROIRIRIDDRDDIDRNOROIOOROIDORONRNINOOONDDIIDINRRNNDONIIRINIIIIDIIIORDNNDIRIIDROINNORINNODNORRDODNNIDDNNNRRDIROIDNRRIDNIORORDDRNRNRRRDDONOIOIDDOIDNIROIDDRNIOOOOODIDIDNNRRINDRRNIRIOINOIRIRNIDRONOIDIRNDRRRDRIIDNDNNODINRDDNONRORRIRDORNNRIODNIOORIOININIDNRRINOORINIDDNNNRNRDDODOIOOIRNDDIORDDONIOIONIRDRODNDORDRRNIODRRDONOORDRIIRORDNONNDODNDODINIORIDDRIDRDONIORORDRNNIOIORNODNNDIODORIRNRORDRDONDDRNRRNINDNNIIRRNDNNIDNROOOOIODRRNNRDRRRRORNROIIDRDOORRNIIODNRDDOIDRIINDRODIDRRRNONNONRNDIIINRRODDIRIONIINONDDOODOODIDNNNRDOIODNRRINOIRIIDNRIRRNIRNOIDOINONNRIDOOOROIIDDRRODDOODRIDNIODDNIORODDINNDDNORDNRDDIDINRODOIDDIIDORINDRDDOORNOODDRIRORIDOINNIONNOIONDODNNRIOORIONIDONORRRIDRRIOINDRNDIORDRIDNORIIORROIDRDNOODIDNRDDDORONIRNINNOORDNRINORIRIININNDIRDRIDORNNRNNNRINNDDOINNDORRRNNDDNDDDDIONIRDDNRNORNDNDORRDRNONOIOOOORDNRRNDRODDINNONINONIDIDNNRIDDRDRDIDNRODNNNODDINRNONIINDDONDRONIIOODDNOONIIDDNDRNIOONNOINRIROODRRRIRRDRNDOIRIDODNINDNNOONIDRIDNNDRNRIRRRIIDIIDIRONDDIDDIROONNIRODNNRIIDORDDODINNDRORDNNRIRRDDONINIIINIIINNRDIIOINDRRNOIDRDRDNRONNDRDOODONNRONNIONINIODRNRNDNIRDRNDOODDNORIIDOIOROONODRNIRNODNNIDONROOROIIRRODODIIDRINODNOORDOONDOINONONRROODDRDNNIRRNNODNDRIDODROOIRIIDDOORODNOORDNDNRODRDDNDNONONDIDOIRRDRDDONIDOIDRONNODORNNIDDIIDNDODRNORODOORORIDOINIRODRRRRNRDIDRIOIDOOIDONDNDRORNNODONNRORIOIDRINODODOORDDIRNINDRDNNDRNIIOOIDIONNDIIIOIIIRIODDOOIDOOOODONODNRIINRIIRDIDNNDOONRNDNNINNDORNOIDIDRDNRRRNRDIORIINOIODRIRDIINIDOINOONIOOODIDNORRIDRNNNIOIIRIOINRNDDDOIIIRIRNONRNIOIOOOOIIDRORRNRIDDRDOONDIIIDIDIOONORRIIDDRDRNODRRDDOOIDDOIDDRINDORNOONDIRIODNROINROOOOODIIINNODOIIRRDNDRONDIOIODDROOOONNODNRORODRNDNRRINORONONRORDORINDDDNIRDINRNROROONROORDDRNNROIORRRDOONODRRIDINODORDDNRRDIDNDIOODRRNINOROOIOONRRONNDRRNNONINIOONRONRDOIDNRNIRORIIDOIIIODRDODDNDNDODOIRDNOIROROODNONDDODNNIRIOROOIDIRDONINNNRDRNDRRINIDDINNDRNROOORRNNIRIDDDDDDINONODIDOIIROOINDIINNIOINIINDNIDROIONIRIIRNONDIDRDDDDDRDNRNNDRRNRRROOIINNNIIDIDDDDNRDNNDDDRNONNNDONDODIRDNIDNDODRDNIRORNNIOODIIRDIRDRRDNRIIIIDDRIODOIRRNONRONODRIRNRDINDORIINOIRNONRINNNIRDOORORDDDDROOONRNIONROIRNORORNDDORNRINIRIDRDDRIINIDOIOONORNDNOODDRINDOIOIONDDOIDRNONDRDIRODNIOIOIDRRRDNIODORRORIIOIRIIDDRIONRNRNDDRDIIDNRODDIIOONRNRRIDIIOINOIRRDIODRNRIDINNDRORIDNOINIONOIONODRINOIOIOOODIRDDINNNDINONONODNIRRDRODNIINORNRIODRNDDDDODOINDODDIRDRNDIRDNRNONINDRIIRRNNRRDRDNRRROINDRIDIRNRDDDRDODONODRDRDDOORDRRINRIRONIIOOINRONONRORONIOIORIODIDNRROOIDDDDIDNRIINIDNDDIDOORRRRIINDRNNIDRRONRRRROINNNRINROIOORRINODNIIODROROIRRNNIRROIINNNOIDOOIDORONIOINDRNOONIOODDIDIININIROINOIIOONOROORRRNRIDORNNNIDRRORORIRIDRDNORIDIDONDROOONIIIIDRRIRRNDIDRRDDRODRNDIIROODOROOIDDRDRNRIDNNRIDIDNOODRIORNOORNNDONRNDRONONNINDORNNDDDIRDOONRNNONIIRNODIIDOORNIIRNIRNODRNRIDNRORORIDDDNRROIRDNDIDODDRNOINIORNDDDOINDONDNOORIORRDIONOINORIONNNODONNROIRDDNDDIDRODRODOOIIDONONNRROONIDONNIIIOOIORNNRDORNNOIINDIDDIIOOONDIONDNDDNRNODDRROIINRDORROIONNONDDIOROONRRINDRDDNRNOROORIRRDDDNRIDNDIORODINODNORIDNOIIRNNIRIONRONDRDINNNRRDRIIIDRDOOOIINRNOIRDDNRIRRDNIRNDROINODINODRNIIIRIDRODIORDONDIRDNNORIIIIRORNINIDIIRIOROOIIORRRRNODONIOIRNNNIONODIIRIRNRNNONIIRNDOODIDNODIIIDORRINORIDIRONIDONIDDNDOIDIDRNNRIRODRRRONIDRNNNONINOIDORNRDODRORIRNIDIDONIDRORIIORNRDNDNOIIRIRIRRRNRINNDRRIDONRDNDNDIDDNIOORDDODDOONORIIDRINNINNNODNIONOONRDODDDDNDDIIDINIOIRROIRIRDRORONORRDIININOOIDRDNNRNONIIIDDDORORNRNOIDIIODRRODOOINRDOOIOIRIRIRIRNDIDDDRRDOOOIDRODRRDDORINRODNRDOODINNIDNRIDDDOOOORDDNIDRDDINIIODIDONRODDODRNNOIDIIROOIOROOONNDOIRIRRNROOONRNDIINIONRRINNORNIIDODNORNRIIDDRDORDNORDIIRRNINNIIODRDIIDNNINORIDDODIIDDRRIRIIIIOINONIIDROINNDDNRORIIRONRRRINDDINDRROIRRORNIIIORRRIDIIODNOIODIONIDNRNINRDRDNRIINODDOIDINIORNRDDONOROODDNDINDONNIDRONIIRNNRDROONDRRDOOORDRDIDNORIORRDNDINDONDRDOOIINDNDIRNDDIRNNRIRRIRIINOOORIONIRINNIRDOIRIIRIIONNNOIORDDNDINIOOODODNNORNIIODOORODINRDIRNNNRDIIODNRDOIRIDNIDONOIDOORDRRDOONINORIOIDIORNODRNIRDNNRDIIRONDOROINDODOODDNRIORROODRONOIRINDNORROIONODRONODDDDDIDRIODONRDNIDNONODRRNDOIIDORIIRDRNRORDRNDRNNIDDDIONRDRRIDRRDRNIDODNDINDNNINIRDODINDRODRINNNDIDNNDDIRNDRNROIRORNRDNNDOORRDRNDRDIDNDDORDOODRDNDRIOIRNNRRRODDRIORRNNDORNNIRNIIDRDIIIDDNDNRDOIRRIOONRNIOROODRORIDINRNNDDIIIONRNNNNIROIRONIDODIDRNDRIODNNIRRNNODNOORINIIOONRNNROIDIIINIOODIDDIDORRRIRORRNRIINODNNDRRDRNDRDRIDIDINNRIROINIONIDNNIIOIDODNONIDRIDOONORDODIDNDIDNIIOIOONINRRNORDNOIIINNIORDORNONONONONRRDIIIRDDOIRODIODRODRRIDIODIORNINDDDDDDDIOOIDRRIODDINIORIDDDRRNODRDIDRIDIIDIRORRIDRDINNINIINRDRDORNIORRINNONDIONIOIDNDNORRDRNRIONOROIOIDRNNIOONIDRDNODONDNRNONORRORIIRDRIRORONRINRDIINOOINIORIIIIDRDDNDIIRORRNIOROORRNODNNONDDNRINNNOROINRNORRRNNNDODRRDORNIONOOROIDIDIDIIOODNIDNIRDNOONIDIIOODOOODRRNDNROODOORRDINNOIORODOOOINODOOOIIDORONDNOIDROORDOIIIDIODINRODDIRDINRNODINIIIIOIORRRDDRDODINOOIDINRRIONNIROIONNIRNNODDNRIDONDNIIDIDDDDNIORDONDONONRNDONDDIROIDIRRIDDIIOOODOROIODDONDNROIRONORONRORIOONNDRIRRODNINDROOOOONNNNIDDIIINODOONIINDRODDOIIIRNONNRIRDDINNRDORNRONRONNRNDDNNDINRIDIIRNRNRDIRNONDDINODODOIRRDRDNOIDDRRNRNIDODRDIONIRDNDRORDNINNNRIRIORRRRIONIDNIIODINRROIOIIRIRDONNNNDOIINDNOONRDIOINDNIORNODOIDDNDNODNRDRIIRNIIRDRIDDROONNDODIIOIONIDDDRIDDIOIRIIRDDRININNROIRRRNORNOONNRRONDINORDOOIDNNNONDIDIDDRRRRRDIDNIRRDDININDODIIOIDRNNOORIRNOINNIDROIODROONNIIIORNINDDDORRDRIDROODONIIRRRIDDDDDNRRNDRIIIDONDRINNRIOODONDONRDRRRRNNODNOOIDDNDINOIDIIRIIRNIROOORINRRDONIORDNDNOOONINODRNOOOODNIRIDRORDIIDOIDIIIIRIDOIRNNODNDNODDRNNIDIIIDNODNINNDIDRDRNNIRORROIDNNODRINRRDNODINDNINROORDODDIONDOORRIONNDINRNOORRDDIONIOORODDNDRRORIRDRRNDORNRNNDOIRDRRROIRINDRNIONDRRNIINIRDIIONIIIDIORDDDIRRDIRNONDIIROOINOOIRNORINNODIRDNNDNOODROIOOIIOINIRRDODRDRIONDRDOOODRINRNNRDNIDDDORRNRIINDDDRIDNDIIRINIDNNDNONONIIIDIIRRDODDRRRNIOINDNIRIRROIRNIODNNRIIDDIDOOIONININNOIROIOIOIIININIDIIDINRDODNIIRIRNDODRINNIIIDNIDRRNONRIDDRODONNOINODOOORRDDRDDDIRDODINIODNIOINORNOIIDONDINROOIONNORIORIRDIDDOOIDDDONOODRIINODONNNDDRDINDRINIDNIIOIRORRRONIRIRONNRDNNRNNNODIRDDIIRRRDIORRRNONIRODRRORIRROINRNIDIIORNDDROIDRIDOORNNDDIIRROORONDDDDIRONDRODOOODNRRRRDIRRIDNNRRNDODDRDDIDNDOOIIDRIONNRIOIRIIIDDDOODNDODDRODRDRIIODODDRRDNODDDNIDNDORNODORODIRIDDNNONODNDORNDIODOROOIONDODDDINIONONDONONRNIRONIRIOIORNOIRDRIONRDIDINIOONDRRRNODIRRDIIDRRIRONRDRDDODIDNROIIRDIRRRONRNODNNNDNOINDDNRIRINDODDDNRRIRORINONIIOOODDINOINRDNIONODDINODOIDOODIIOIONIDNNODOIIDODRIDIDNIODORDRNNNRINNRDIDNINDOIIDRIDOORRNDNNOONOONDNIODDONONODRORIODOOIRDNNORIDNDORININOORDNNODNDOIONRDINDRNNRDRDDIIDIDRNIIDNNNOONRNIIONIOINNRNNNIOOINIRDDDDNRRDOIRDRDOIOODRROIOIRRIRDDRDROONOIDIRIIIDNRNRDOOIORDOORIODRORDRRRRRIIRDDIRININDIIONRNIORDNRDNRRRDRIONNIIORINDIDIDINDROIDORNIDNNODIDNDINDOIODDNIDNRDRRODINNRINRNDNOIROIRIDDNOORRRIIRRRNIDIOIDORROIRNNDNIONOONDIRIIIRDONOROOOOIINDRIDNODRINODNIIIOONIINODRNINONINRINIDRRIDNNDDDINNNONDOOROODDODDNRODIIIOIDNRIOONDDNRDRINNINNNDRIRDDOINRNONONOIODOODINOIIRIODIIRIOIRIRDROOROORINDIRNOOIDNIIOIRIRIRDRDINODNRRONINROOROIODINOIRRDDIRONOORNDRIDOIODINIDRIRNNIDDDONODOODIIRRDOINRIOIOODNIDDRRNOOINIRDNIDOROIDIRIIDINORINIRRIRRNIDNININIIDNDRNNDONRIDIDORDORRRDDRIINRNNDRROIORIRIDDIIIRDINORDRDIDNRRNDRIIRONROIIDDDIINORINOONDNDRRNRNDNONIIDDRIIORDRRDDDINIRRRDRROORNINDINOIRDOINROOIONIRNRDDROOORNONRIRNIRRRIIONNNDNNRINOINRIRNDONIDDROORONORIDIDRDDOORNIIIRORNDIIDONDRODNRDNDDNDOIRIIRIIRROIRRRODRDRRDRRORNRORIDNNIDOIIODIONONIIRDRNOOIIIODNRIINDNORINDINNRNNNOODIDDRNNNIOORDDODRODNNNIRRNIDNRRODIOIDROIIRNRRDNRIRDRRDDOIONRIIIOIONRINORINDDOONIORORRNNRIONDDININODOIOIODRDDRRDNDDRONNONIDORRIDNIDORNROIONDIOORRRIIOIONINIRDIIDRIDDOONIRIRDRIROONIINORIIDONINRIIRDNIONIDIONRIODIIODIRIDRRDRDIRIRIRODIOONDORONRIINRRIDDRINDONNDINODOOORDIDDINRINODNNODORDORNRNDINDDRNRDNIDRIORORRROORRONIOODIOROOORNDNONNRONRDIDIDONRIRDNIDRNDIDDRNNRNDDONONIDNOONINNRIIRRONNOINRRNNRRNNRNONNIOONNDRDNODNOIOIONOORNIRDNDDDIRIIIOODIDIRNIRIDODNRRORNOORONNINDINIDNODNDRNDINNIRNDRIINIODIRNIOOIIONDRIRDNIRNDOROIONRONNIINDININIOOIDNROOOIDRRINIIDIIRDRROIOIIDOIRNDRIIRIINIRDIODDIDRRDRNIDONOORDNRNRRORNIDNONRONIIRNDRIONNODNNOIDOIINIDNRDNORODRIRRNRNRIDDDRRRNNNRRONRIRIINRONINIIIIRIROINODNODRORIINIOONOODRIIIIRNIRRIIRNDOOONIOIDDODDRDODDRRDIDIDDNNIIDORRIODDORIDIRIROIRONRNIINDNNRDIOODIDRRNOOIINNNDDIRRODDDNNINOORINNDORRRORNNRIINODIDRNODRDIOOOINIOIDRDOIOIINDOONNDODNORONDNNRRDRDRRRODIDRRDIOONINNRDIDIIDDRDIDDRNIRNDRDIRNNINRNRDDDIIIIINRDOIOINODIODNONRDNRDNIONRRNDNDIIRRDRIRNOOIDNNDRNDNIINORRDNNDDNRRNIRNDRDIRONRNIRODONNNNIONOODOORIDOIDDORDOIDRINIOODINRIDDDIRNNDONNDODIODRNDORRROROIDNIRRRIIIDIIDNOIDDNIIDOOODRODDINIIOOOIDNRRORIODDRRNIDDRINORRDINNNNIDONRDIRIINIOINIDDNIDDORIDIRODRRDNINROIRDDIIORDOINORRNNDRNINOODODDNIIIIIIORO\n"
     ]
    }
   ],
   "source": [
    "from random import choice; print(''.join(choice(('R','O','D','I','N')) for i in range( 10000)))"
   ]
  },
  {
   "cell_type": "code",
   "execution_count": null,
   "metadata": {},
   "outputs": [],
   "source": [
    "#import turtle"
   ]
  },
  {
   "cell_type": "code",
   "execution_count": null,
   "metadata": {
    "scrolled": true
   },
   "outputs": [],
   "source": [
    "#pip install jupyterthemes"
   ]
  },
  {
   "cell_type": "code",
   "execution_count": null,
   "metadata": {},
   "outputs": [],
   "source": [
    "#pip install --upgrade jupyterthemes"
   ]
  },
  {
   "cell_type": "code",
   "execution_count": null,
   "metadata": {},
   "outputs": [],
   "source": [
    "pip install jupyter_contrib_nbextensions && jupyter contrib nbextension install "
   ]
  },
  {
   "cell_type": "code",
   "execution_count": null,
   "metadata": {},
   "outputs": [],
   "source": [
    "pip install autopep8"
   ]
  },
  {
   "cell_type": "code",
   "execution_count": 4,
   "metadata": {},
   "outputs": [],
   "source": [
    "from jupyterthemes import jtplot\n",
    "jtplot.style(theme='monokai', context='notebook', ticks=True, grid=False)"
   ]
  },
  {
   "cell_type": "code",
   "execution_count": 5,
   "metadata": {},
   "outputs": [
    {
     "name": "stdout",
     "output_type": "stream",
     "text": [
      "Available Themes: \n",
      "   chesterish\n",
      "   grade3\n",
      "   gruvboxd\n",
      "   gruvboxl\n",
      "   monokai\n",
      "   oceans16\n",
      "   onedork\n",
      "   solarizedd\n",
      "   solarizedl\n"
     ]
    }
   ],
   "source": [
    "!jt -l"
   ]
  },
  {
   "cell_type": "code",
   "execution_count": 1,
   "metadata": {},
   "outputs": [],
   "source": [
    "!jt -t monokai"
   ]
  },
  {
   "cell_type": "code",
   "execution_count": 2,
   "metadata": {
    "collapsed": true
   },
   "outputs": [
    {
     "name": "stdout",
     "output_type": "stream",
     "text": [
      "Collecting jupyter_dashboards\n",
      "  Downloading https://files.pythonhosted.org/packages/6a/97/9eeded5bc92b207712c5017076dfa5eddf11c6b45b596e6ec3d50318609b/jupyter_dashboards-0.7.0.tar.gz (2.9MB)\n",
      "Requirement already satisfied: notebook>=4.0 in c:\\users\\dell\\anaconda3\\lib\\site-packages (from jupyter_dashboards) (6.0.1)\n",
      "Requirement already satisfied: prometheus-client in c:\\users\\dell\\anaconda3\\lib\\site-packages (from notebook>=4.0->jupyter_dashboards) (0.7.1)\n",
      "Requirement already satisfied: pyzmq>=17 in c:\\users\\dell\\anaconda3\\lib\\site-packages (from notebook>=4.0->jupyter_dashboards) (18.1.0)\n",
      "Requirement already satisfied: nbconvert in c:\\users\\dell\\anaconda3\\lib\\site-packages (from notebook>=4.0->jupyter_dashboards) (5.6.0)\n",
      "Requirement already satisfied: tornado>=5.0 in c:\\users\\dell\\anaconda3\\lib\\site-packages (from notebook>=4.0->jupyter_dashboards) (6.0.3)\n",
      "Requirement already satisfied: ipykernel in c:\\users\\dell\\anaconda3\\lib\\site-packages (from notebook>=4.0->jupyter_dashboards) (5.1.2)\n",
      "Requirement already satisfied: terminado>=0.8.1 in c:\\users\\dell\\anaconda3\\lib\\site-packages (from notebook>=4.0->jupyter_dashboards) (0.8.2)\n",
      "Requirement already satisfied: jupyter-core>=4.4.0 in c:\\users\\dell\\anaconda3\\lib\\site-packages (from notebook>=4.0->jupyter_dashboards) (4.5.0)\n",
      "Requirement already satisfied: ipython-genutils in c:\\users\\dell\\anaconda3\\lib\\site-packages (from notebook>=4.0->jupyter_dashboards) (0.2.0)\n",
      "Requirement already satisfied: jinja2 in c:\\users\\dell\\anaconda3\\lib\\site-packages (from notebook>=4.0->jupyter_dashboards) (2.10.3)\n",
      "Requirement already satisfied: nbformat in c:\\users\\dell\\anaconda3\\lib\\site-packages (from notebook>=4.0->jupyter_dashboards) (4.4.0)\n",
      "Requirement already satisfied: jupyter-client>=5.3.1 in c:\\users\\dell\\anaconda3\\lib\\site-packages (from notebook>=4.0->jupyter_dashboards) (5.3.3)\n",
      "Requirement already satisfied: Send2Trash in c:\\users\\dell\\anaconda3\\lib\\site-packages (from notebook>=4.0->jupyter_dashboards) (1.5.0)\n",
      "Requirement already satisfied: traitlets>=4.2.1 in c:\\users\\dell\\anaconda3\\lib\\site-packages (from notebook>=4.0->jupyter_dashboards) (4.3.3)\n",
      "Requirement already satisfied: mistune<2,>=0.8.1 in c:\\users\\dell\\anaconda3\\lib\\site-packages (from nbconvert->notebook>=4.0->jupyter_dashboards) (0.8.4)\n",
      "Requirement already satisfied: bleach in c:\\users\\dell\\anaconda3\\lib\\site-packages (from nbconvert->notebook>=4.0->jupyter_dashboards) (3.1.0)\n",
      "Requirement already satisfied: pandocfilters>=1.4.1 in c:\\users\\dell\\anaconda3\\lib\\site-packages (from nbconvert->notebook>=4.0->jupyter_dashboards) (1.4.2)\n",
      "Requirement already satisfied: testpath in c:\\users\\dell\\anaconda3\\lib\\site-packages (from nbconvert->notebook>=4.0->jupyter_dashboards) (0.4.2)\n",
      "Requirement already satisfied: entrypoints>=0.2.2 in c:\\users\\dell\\anaconda3\\lib\\site-packages (from nbconvert->notebook>=4.0->jupyter_dashboards) (0.3)\n",
      "Requirement already satisfied: pygments in c:\\users\\dell\\anaconda3\\lib\\site-packages (from nbconvert->notebook>=4.0->jupyter_dashboards) (2.4.2)\n",
      "Requirement already satisfied: defusedxml in c:\\users\\dell\\anaconda3\\lib\\site-packages (from nbconvert->notebook>=4.0->jupyter_dashboards) (0.6.0)\n",
      "Requirement already satisfied: ipython>=5.0.0 in c:\\users\\dell\\anaconda3\\lib\\site-packages (from ipykernel->notebook>=4.0->jupyter_dashboards) (7.8.0)\n",
      "Requirement already satisfied: MarkupSafe>=0.23 in c:\\users\\dell\\anaconda3\\lib\\site-packages (from jinja2->notebook>=4.0->jupyter_dashboards) (1.1.1)\n",
      "Requirement already satisfied: jsonschema!=2.5.0,>=2.4 in c:\\users\\dell\\anaconda3\\lib\\site-packages (from nbformat->notebook>=4.0->jupyter_dashboards) (3.0.2)\n",
      "Requirement already satisfied: pywin32>=1.0; sys_platform == \"win32\" in c:\\users\\dell\\anaconda3\\lib\\site-packages (from jupyter-client>=5.3.1->notebook>=4.0->jupyter_dashboards) (223)\n",
      "Requirement already satisfied: python-dateutil>=2.1 in c:\\users\\dell\\anaconda3\\lib\\site-packages (from jupyter-client>=5.3.1->notebook>=4.0->jupyter_dashboards) (2.8.0)\n",
      "Requirement already satisfied: decorator in c:\\users\\dell\\anaconda3\\lib\\site-packages (from traitlets>=4.2.1->notebook>=4.0->jupyter_dashboards) (4.4.0)\n",
      "Requirement already satisfied: six in c:\\users\\dell\\anaconda3\\lib\\site-packages (from traitlets>=4.2.1->notebook>=4.0->jupyter_dashboards) (1.12.0)\n",
      "Requirement already satisfied: webencodings in c:\\users\\dell\\anaconda3\\lib\\site-packages (from bleach->nbconvert->notebook>=4.0->jupyter_dashboards) (0.5.1)\n",
      "Requirement already satisfied: backcall in c:\\users\\dell\\anaconda3\\lib\\site-packages (from ipython>=5.0.0->ipykernel->notebook>=4.0->jupyter_dashboards) (0.1.0)\n",
      "Requirement already satisfied: prompt-toolkit<2.1.0,>=2.0.0 in c:\\users\\dell\\anaconda3\\lib\\site-packages (from ipython>=5.0.0->ipykernel->notebook>=4.0->jupyter_dashboards) (2.0.10)\n",
      "Requirement already satisfied: pickleshare in c:\\users\\dell\\anaconda3\\lib\\site-packages (from ipython>=5.0.0->ipykernel->notebook>=4.0->jupyter_dashboards) (0.7.5)\n",
      "Requirement already satisfied: setuptools>=18.5 in c:\\users\\dell\\anaconda3\\lib\\site-packages (from ipython>=5.0.0->ipykernel->notebook>=4.0->jupyter_dashboards) (41.4.0)\n",
      "Requirement already satisfied: jedi>=0.10 in c:\\users\\dell\\anaconda3\\lib\\site-packages (from ipython>=5.0.0->ipykernel->notebook>=4.0->jupyter_dashboards) (0.15.1)\n",
      "Requirement already satisfied: colorama; sys_platform == \"win32\" in c:\\users\\dell\\anaconda3\\lib\\site-packages (from ipython>=5.0.0->ipykernel->notebook>=4.0->jupyter_dashboards) (0.4.1)\n",
      "Requirement already satisfied: pyrsistent>=0.14.0 in c:\\users\\dell\\anaconda3\\lib\\site-packages (from jsonschema!=2.5.0,>=2.4->nbformat->notebook>=4.0->jupyter_dashboards) (0.15.4)\n",
      "Requirement already satisfied: attrs>=17.4.0 in c:\\users\\dell\\anaconda3\\lib\\site-packages (from jsonschema!=2.5.0,>=2.4->nbformat->notebook>=4.0->jupyter_dashboards) (19.2.0)\n",
      "Requirement already satisfied: wcwidth in c:\\users\\dell\\anaconda3\\lib\\site-packages (from prompt-toolkit<2.1.0,>=2.0.0->ipython>=5.0.0->ipykernel->notebook>=4.0->jupyter_dashboards) (0.1.7)\n",
      "Requirement already satisfied: parso>=0.5.0 in c:\\users\\dell\\anaconda3\\lib\\site-packages (from jedi>=0.10->ipython>=5.0.0->ipykernel->notebook>=4.0->jupyter_dashboards) (0.5.1)\n",
      "Building wheels for collected packages: jupyter-dashboards\n",
      "  Building wheel for jupyter-dashboards (setup.py): started\n",
      "  Building wheel for jupyter-dashboards (setup.py): still running...\n",
      "  Building wheel for jupyter-dashboards (setup.py): finished with status 'done'\n",
      "  Created wheel for jupyter-dashboards: filename=jupyter_dashboards-0.7.0-cp37-none-any.whl size=3643492 sha256=bb0cd978a8cddd64603cca7e0c391b9f19ab3ed155c4555e935ba7b30d45f3d7\n",
      "  Stored in directory: C:\\Users\\dell\\AppData\\Local\\pip\\Cache\\wheels\\94\\dd\\97\\e1ccd2363110360426bcb18876cb0c158634afe8d494e27a5d\n",
      "Successfully built jupyter-dashboards\n",
      "Installing collected packages: jupyter-dashboards\n",
      "Successfully installed jupyter-dashboards-0.7.0\n",
      "Note: you may need to restart the kernel to use updated packages.\n"
     ]
    }
   ],
   "source": [
    "pip install jupyter_dashboards"
   ]
  },
  {
   "cell_type": "code",
   "execution_count": 1,
   "metadata": {},
   "outputs": [
    {
     "ename": "SyntaxError",
     "evalue": "invalid syntax (<ipython-input-1-427f229fecd3>, line 1)",
     "output_type": "error",
     "traceback": [
      "\u001b[1;36m  File \u001b[1;32m\"<ipython-input-1-427f229fecd3>\"\u001b[1;36m, line \u001b[1;32m1\u001b[0m\n\u001b[1;33m    pip3 list\u001b[0m\n\u001b[1;37m            ^\u001b[0m\n\u001b[1;31mSyntaxError\u001b[0m\u001b[1;31m:\u001b[0m invalid syntax\n"
     ]
    }
   ],
   "source": [
    "pip3 list"
   ]
  },
  {
   "cell_type": "code",
   "execution_count": 2,
   "metadata": {},
   "outputs": [
    {
     "name": "stdout",
     "output_type": "stream",
     "text": [
      "--------------------------------------------\n",
      "The Thing (1982)\n",
      "A research team in Antarctica is hunted by a shape-shifting alien that assumes the appearance of its victims.\n",
      "--------------------------------------------\n",
      "Fa yeung nin wah (2000)\n",
      "Two neighbors, a woman and a man, form a strong bond after both suspect extramarital activities of their spouses. However, they agree to keep their bond platonic so as not to commit similar wrongs.\n",
      "--------------------------------------------\n",
      "V for Vendetta (2005)\n",
      "In a future British tyranny, a shadowy freedom fighter, known only by the alias of \"V\", plots to overthrow it with the help of a young woman.\n",
      "--------------------------------------------\n",
      "Les quatre cents coups (1959)\n",
      "A young boy, left without attention, delves into a life of petty crime.\n",
      "--------------------------------------------\n",
      "The Treasure of the Sierra Madre (1948)\n",
      "Two Americans searching for work in Mexico convince an old prospector to help them mine for gold in the Sierra Madre Mountains.\n",
      "--------------------------------------------\n",
      "Drishyam (2015)\n",
      "Desperate measures are taken by a man who tries to save his family from the dark side of the law, after they commit an unexpected crime.\n",
      "--------------------------------------------\n",
      "The Intouchables (2011)\n",
      "After he becomes a quadriplegic from a paragliding accident, an aristocrat hires a young man from the projects to be his caregiver.\n",
      "--------------------------------------------\n",
      "The Sting (1973)\n",
      "Two grifters team up to pull off the ultimate con.\n",
      "--------------------------------------------\n",
      "Rashômon (1950)\n",
      "The rape of a bride and the murder of her samurai husband are recalled from the perspectives of a bandit, the bride, the samurai's ghost and a woodcutter.\n",
      "--------------------------------------------\n",
      "Relatos salvajes (2014)\n",
      "Six short stories that explore the extremities of human behavior involving people in distress.\n",
      "--------------------------------------------\n"
     ]
    }
   ],
   "source": [
    "\n",
    "from bs4 import BeautifulSoup\n",
    "import requests\n",
    "import random\n",
    "def get_imd_movies(url):\n",
    "    page = requests.get(url)\n",
    "    soup = BeautifulSoup(page.text, 'html.parser')\n",
    "    movies = soup.find_all(\"td\", class_=\"titleColumn\")\n",
    "    random.shuffle(movies)\n",
    "    return movies\n",
    "def get_imd_summary(url):\n",
    "    movie_page = requests.get(url)\n",
    "    soup = BeautifulSoup(movie_page.text, 'html.parser')\n",
    "    return soup.find(\"div\", class_=\"summary_text\").contents[0].strip()\n",
    "\n",
    "def get_imd_movie_info(movie):\n",
    "    movie_title = movie.a.contents[0]\n",
    "    movie_year = movie.span.contents[0]\n",
    "    movie_url = 'http://www.imdb.com' + movie.a['href']\n",
    "    return movie_title, movie_year, movie_url\n",
    "\n",
    "def imd_movie_picker():\n",
    "    ctr=0\n",
    "    print(\"--------------------------------------------\")\n",
    "    for movie in get_imd_movies('http://www.imdb.com/chart/top'):\n",
    "        movie_title, movie_year, movie_url = get_imd_movie_info(movie)\n",
    "        movie_summary = get_imd_summary(movie_url)\n",
    "        print(movie_title, movie_year)\n",
    "        print(movie_summary)\n",
    "        print(\"--------------------------------------------\")\n",
    "        ctr=ctr+1\n",
    "        if (ctr==10):\n",
    "          break;   \n",
    "if __name__ == '__main__':\n",
    "    imd_movie_picker()"
   ]
  },
  {
   "cell_type": "code",
   "execution_count": null,
   "metadata": {},
   "outputs": [],
   "source": []
  }
 ],
 "metadata": {
  "kernelspec": {
   "display_name": "Python 3",
   "language": "python",
   "name": "python3"
  },
  "language_info": {
   "codemirror_mode": {
    "name": "ipython",
    "version": 3
   },
   "file_extension": ".py",
   "mimetype": "text/x-python",
   "name": "python",
   "nbconvert_exporter": "python",
   "pygments_lexer": "ipython3",
   "version": "3.7.4"
  },
  "latex_envs": {
   "LaTeX_envs_menu_present": true,
   "autoclose": false,
   "autocomplete": true,
   "bibliofile": "biblio.bib",
   "cite_by": "apalike",
   "current_citInitial": 1,
   "eqLabelWithNumbers": true,
   "eqNumInitial": 1,
   "hotkeys": {
    "equation": "Ctrl-E",
    "itemize": "Ctrl-I"
   },
   "labels_anchors": false,
   "latex_user_defs": false,
   "report_style_numbering": false,
   "user_envs_cfg": false
  },
  "toc": {
   "base_numbering": 1,
   "nav_menu": {},
   "number_sections": true,
   "sideBar": true,
   "skip_h1_title": false,
   "title_cell": "Table of Contents",
   "title_sidebar": "Contents",
   "toc_cell": false,
   "toc_position": {},
   "toc_section_display": true,
   "toc_window_display": false
  },
  "varInspector": {
   "cols": {
    "lenName": 16,
    "lenType": 16,
    "lenVar": 40
   },
   "kernels_config": {
    "python": {
     "delete_cmd_postfix": "",
     "delete_cmd_prefix": "del ",
     "library": "var_list.py",
     "varRefreshCmd": "print(var_dic_list())"
    },
    "r": {
     "delete_cmd_postfix": ") ",
     "delete_cmd_prefix": "rm(",
     "library": "var_list.r",
     "varRefreshCmd": "cat(var_dic_list()) "
    }
   },
   "types_to_exclude": [
    "module",
    "function",
    "builtin_function_or_method",
    "instance",
    "_Feature"
   ],
   "window_display": false
  }
 },
 "nbformat": 4,
 "nbformat_minor": 2
}
