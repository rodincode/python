{
 "cells": [
  {
   "cell_type": "code",
   "execution_count": 11,
   "metadata": {},
   "outputs": [
    {
     "ename": "ImportError",
     "evalue": "cannot import name 'screen' from 'tkinter' (C:\\Users\\dell\\Anaconda3\\lib\\tkinter\\__init__.py)",
     "output_type": "error",
     "traceback": [
      "\u001b[1;31m---------------------------------------------------------------------------\u001b[0m",
      "\u001b[1;31mImportError\u001b[0m                               Traceback (most recent call last)",
      "\u001b[1;32m<ipython-input-11-2335c37db469>\u001b[0m in \u001b[0;36m<module>\u001b[1;34m\u001b[0m\n\u001b[0;32m      2\u001b[0m \u001b[1;33m\u001b[0m\u001b[0m\n\u001b[0;32m      3\u001b[0m \u001b[1;32mfrom\u001b[0m \u001b[0mtkinter\u001b[0m \u001b[1;32mimport\u001b[0m \u001b[1;33m*\u001b[0m\u001b[1;33m\u001b[0m\u001b[1;33m\u001b[0m\u001b[0m\n\u001b[1;32m----> 4\u001b[1;33m \u001b[1;32mfrom\u001b[0m \u001b[0mtkinter\u001b[0m \u001b[1;32mimport\u001b[0m \u001b[0mscreen\u001b[0m\u001b[1;33m\u001b[0m\u001b[1;33m\u001b[0m\u001b[0m\n\u001b[0m\u001b[0;32m      5\u001b[0m \u001b[1;33m\u001b[0m\u001b[0m\n\u001b[0;32m      6\u001b[0m \u001b[1;32mdef\u001b[0m \u001b[0mwarning\u001b[0m\u001b[1;33m(\u001b[0m\u001b[1;33m)\u001b[0m\u001b[1;33m:\u001b[0m\u001b[1;33m\u001b[0m\u001b[1;33m\u001b[0m\u001b[0m\n",
      "\u001b[1;31mImportError\u001b[0m: cannot import name 'screen' from 'tkinter' (C:\\Users\\dell\\Anaconda3\\lib\\tkinter\\__init__.py)"
     ]
    }
   ],
   "source": [
    "##### to make a small window ############\n",
    "\n",
    "from tkinter import *\n",
    "from tkinter import screen\n",
    "\n",
    "def warning():\n",
    "    print(\"ALERT! Don't press me again.\")\n",
    "\n",
    "def draw():\n",
    "    c.create_rectangle(event.x, event.y, event.x+5,event.y+5)\n",
    "    \n",
    "root=Tk()\n",
    "#Widgets\n",
    "#c=getcanvas(root,width=300,height=200)\n",
    "c = screen.getcanvas()\n",
    "c.pack()\n",
    "#c.bind('<Button-1>',draw)\n",
    "#w=Label(root,text=\"Hello I am Arvie\")\n",
    "#w.pack()\n",
    "#b=Button(root,text=\"Don't Click Me\",command=warning)\n",
    "#b.pack()\n",
    "root.mainloop()\n",
    "\n"
   ]
  },
  {
   "cell_type": "code",
   "execution_count": 16,
   "metadata": {},
   "outputs": [],
   "source": [
    "from tkinter import *\n",
    "\n",
    "root = Tk()\n",
    "\n",
    "w = Canvas(root, width=200, height=100)\n",
    "w.pack()\n",
    "\n",
    "w.create_rectangle(50, 20, 150, 80, fill=\"#476042\")\n",
    "w.create_rectangle(65, 35, 135, 65, fill=\"yellow\")\n",
    "w.create_oval(0, 0, 50, 20, fill=\"#476042\", width=3)\n",
    "w.create_line(0, 100, 50, 80, fill=\"#476042\", width=3)\n",
    "w.create_line(150,20, 200, 0, fill=\"#476042\", width=3)\n",
    "w.create_line(150, 80, 200, 100, fill=\"#476042\", width=3)\n",
    "\n",
    "mainloop()"
   ]
  },
  {
   "cell_type": "code",
   "execution_count": 21,
   "metadata": {},
   "outputs": [],
   "source": [
    "from tkinter import *\n",
    "def paint(event):\n",
    "    my_color=\"#4B4A9B\"\n",
    "    x1,y1=(event.x - 40),(event.y -40)\n",
    "    x2,y2=(event.x + 40),(event.y +40)\n",
    "    w.create_oval(x1,y1,x2,y2,fill=my_color)\n",
    "    \n",
    "root=Tk()\n",
    "root.title(\"Its my MS Paint!\")\n",
    "w=Canvas(root,width=200,height=300)\n",
    "w.pack(expand=YES,fill=BOTH)\n",
    "w.bind('<B1-Motion>',paint)\n",
    "\n",
    "message=Label(root,text=\"Just press and drag to draw\")\n",
    "message.pack()\n",
    "\n",
    "mainloop()"
   ]
  },
  {
   "cell_type": "code",
   "execution_count": null,
   "metadata": {},
   "outputs": [],
   "source": []
  }
 ],
 "metadata": {
  "kernelspec": {
   "display_name": "Python 3",
   "language": "python",
   "name": "python3"
  },
  "language_info": {
   "codemirror_mode": {
    "name": "ipython",
    "version": 3
   },
   "file_extension": ".py",
   "mimetype": "text/x-python",
   "name": "python",
   "nbconvert_exporter": "python",
   "pygments_lexer": "ipython3",
   "version": "3.7.4"
  },
  "latex_envs": {
   "LaTeX_envs_menu_present": true,
   "autoclose": false,
   "autocomplete": true,
   "bibliofile": "biblio.bib",
   "cite_by": "apalike",
   "current_citInitial": 1,
   "eqLabelWithNumbers": true,
   "eqNumInitial": 1,
   "hotkeys": {
    "equation": "Ctrl-E",
    "itemize": "Ctrl-I"
   },
   "labels_anchors": false,
   "latex_user_defs": false,
   "report_style_numbering": false,
   "user_envs_cfg": false
  },
  "toc": {
   "base_numbering": 1,
   "nav_menu": {},
   "number_sections": true,
   "sideBar": true,
   "skip_h1_title": false,
   "title_cell": "Table of Contents",
   "title_sidebar": "Contents",
   "toc_cell": false,
   "toc_position": {},
   "toc_section_display": true,
   "toc_window_display": false
  },
  "varInspector": {
   "cols": {
    "lenName": 16,
    "lenType": 16,
    "lenVar": 40
   },
   "kernels_config": {
    "python": {
     "delete_cmd_postfix": "",
     "delete_cmd_prefix": "del ",
     "library": "var_list.py",
     "varRefreshCmd": "print(var_dic_list())"
    },
    "r": {
     "delete_cmd_postfix": ") ",
     "delete_cmd_prefix": "rm(",
     "library": "var_list.r",
     "varRefreshCmd": "cat(var_dic_list()) "
    }
   },
   "types_to_exclude": [
    "module",
    "function",
    "builtin_function_or_method",
    "instance",
    "_Feature"
   ],
   "window_display": false
  }
 },
 "nbformat": 4,
 "nbformat_minor": 2
}
