{
 "cells": [
  {
   "cell_type": "code",
   "execution_count": null,
   "metadata": {},
   "outputs": [],
   "source": []
  },
  {
   "cell_type": "code",
   "execution_count": 3,
   "metadata": {},
   "outputs": [],
   "source": [
    "from tkinter import *"
   ]
  },
  {
   "cell_type": "code",
   "execution_count": 4,
   "metadata": {},
   "outputs": [],
   "source": [
    "class Window(Frame):\n",
    "    def __init__(self,master=None):\n",
    "        Frame.__init__(self,master)\n",
    "        self.master=master\n",
    "    \n",
    "    def init_window(self):\n",
    "        self.master.title(\"Hospital Bookings\")\n",
    "        self.pack(fill=BOTH, expand=1)\n",
    "        hospitalbutton=Button(self,text=\"Select Hospital\")\n",
    "        hospitalbutton.place(x=0,y=0)\n",
    "    \n"
   ]
  },
  {
   "cell_type": "code",
   "execution_count": 5,
   "metadata": {},
   "outputs": [],
   "source": [
    "root=Tk()\n",
    "root.geometry(\"400x300\")\n",
    "app=Window(root)\n",
    "root.mainloop()"
   ]
  },
  {
   "cell_type": "code",
   "execution_count": 6,
   "metadata": {},
   "outputs": [
    {
     "name": "stdout",
     "output_type": "stream",
     "text": [
      "hi there, everyone!\n"
     ]
    }
   ],
   "source": [
    "import tkinter as tk\n",
    "\n",
    "class Application(tk.Frame):\n",
    "    def __init__(self, master=None):\n",
    "        super().__init__(master)\n",
    "        self.master = master\n",
    "        self.pack()\n",
    "        self.create_widgets()\n",
    "\n",
    "    def create_widgets(self):\n",
    "        self.hi_there = tk.Button(self)\n",
    "        self.hi_there[\"text\"] = \"Hello World\\n(click me)\"\n",
    "        self.hi_there[\"command\"] = self.say_hi\n",
    "        self.hi_there.pack(side=\"top\")\n",
    "\n",
    "        self.quit = tk.Button(self, text=\"QUIT\", fg=\"red\",\n",
    "                              command=self.master.destroy)\n",
    "        self.quit.pack(side=\"bottom\")\n",
    "\n",
    "    def say_hi(self):\n",
    "        print(\"hi there, everyone!\")\n",
    "\n",
    "root = tk.Tk()\n",
    "app = Application(master=root)\n",
    "\n",
    "\n",
    "\n",
    "app.mainloop()\n",
    "    \n",
    "    \n",
    "#shayaknandi2004@gmail.com\n"
   ]
  },
  {
   "cell_type": "code",
   "execution_count": 7,
   "metadata": {},
   "outputs": [
    {
     "ename": "OperationalError",
     "evalue": "unable to open database file",
     "output_type": "error",
     "traceback": [
      "\u001b[1;31m---------------------------------------------------------------------------\u001b[0m",
      "\u001b[1;31mOperationalError\u001b[0m                          Traceback (most recent call last)",
      "\u001b[1;32m<ipython-input-7-a1553a1e46d7>\u001b[0m in \u001b[0;36m<module>\u001b[1;34m\u001b[0m\n\u001b[0;32m      4\u001b[0m \u001b[1;32mimport\u001b[0m \u001b[0mtkinter\u001b[0m\u001b[1;33m.\u001b[0m\u001b[0mmessagebox\u001b[0m\u001b[1;33m\u001b[0m\u001b[1;33m\u001b[0m\u001b[0m\n\u001b[0;32m      5\u001b[0m \u001b[1;31m# connect to the databse.\u001b[0m\u001b[1;33m\u001b[0m\u001b[1;33m\u001b[0m\u001b[1;33m\u001b[0m\u001b[0m\n\u001b[1;32m----> 6\u001b[1;33m \u001b[0mconn\u001b[0m \u001b[1;33m=\u001b[0m \u001b[0msqlite3\u001b[0m\u001b[1;33m.\u001b[0m\u001b[0mconnect\u001b[0m\u001b[1;33m(\u001b[0m\u001b[1;34mr'C:\\Users\\dell\\Downloads\\Hospital-Management-System-master\\Hospital-Management-System-master\\database.db'\u001b[0m\u001b[1;33m)\u001b[0m\u001b[1;33m\u001b[0m\u001b[1;33m\u001b[0m\u001b[0m\n\u001b[0m\u001b[0;32m      7\u001b[0m \u001b[1;31m# cursor to move around the databse\u001b[0m\u001b[1;33m\u001b[0m\u001b[1;33m\u001b[0m\u001b[1;33m\u001b[0m\u001b[0m\n\u001b[0;32m      8\u001b[0m \u001b[0mc\u001b[0m \u001b[1;33m=\u001b[0m \u001b[0mconn\u001b[0m\u001b[1;33m.\u001b[0m\u001b[0mcursor\u001b[0m\u001b[1;33m(\u001b[0m\u001b[1;33m)\u001b[0m\u001b[1;33m\u001b[0m\u001b[1;33m\u001b[0m\u001b[0m\n",
      "\u001b[1;31mOperationalError\u001b[0m: unable to open database file"
     ]
    }
   ],
   "source": [
    "# import modules\n",
    "from tkinter import *\n",
    "import sqlite3\n",
    "import tkinter.messagebox\n",
    "# connect to the databaqse.\n",
    "conn = sqlite3.connect(r'C:\\Users\\dell\\Downloads\\Hospital-Management-System-master\\Hospital-Management-System-master\\database.db')\n",
    "# cursor to move around the databse\n",
    "c = conn.cursor()\n",
    "\n",
    "# empty list to later append the ids from the database\n",
    "ids = []\n",
    "\n",
    "# tkinter window\n",
    "class Application:\n",
    "    def __init__(self, master):\n",
    "        self.master = master\n",
    "\n",
    "        # creating the frames in the master\n",
    "        self.left = Frame(master, width=800, height=720, bg='lightgreen')\n",
    "        self.left.pack(side=LEFT)\n",
    "\n",
    "        self.right = Frame(master, width=400, height=720, bg='steelblue')\n",
    "        self.right.pack(side=RIGHT)\n",
    "\n",
    "        # labels for the window\n",
    "        self.heading = Label(self.left, text=\"Arvie's Hospital Appointments\", font=('arial 40 bold'), fg='black', bg='lightgreen')\n",
    "        self.heading.place(x=0, y=0)\n",
    "        # patients name\n",
    "        self.name = Label(self.left, text=\"Patient's Name\", font=('arial 18 bold'), fg='black', bg='lightgreen')\n",
    "        self.name.place(x=0, y=100)\n",
    "\n",
    "        # age\n",
    "        self.age = Label(self.left, text=\"Age\", font=('arial 18 bold'), fg='black', bg='lightgreen')\n",
    "        self.age.place(x=0, y=140)\n",
    "\n",
    "        # gender\n",
    "        self.gender = Label(self.left, text=\"Gender\", font=('arial 18 bold'), fg='black', bg='lightgreen')\n",
    "        self.gender.place(x=0, y=180)\n",
    "\n",
    "        # location\n",
    "        self.location = Label(self.left, text=\"Location\", font=('arial 18 bold'), fg='black', bg='lightgreen')\n",
    "        self.location.place(x=0, y=220)\n",
    "\n",
    "        # appointment time\n",
    "        self.time = Label(self.left, text=\"Appointment Time\", font=('arial 18 bold'), fg='black', bg='lightgreen')\n",
    "        self.time.place(x=0, y=260)\n",
    "\n",
    "        # phone\n",
    "        self.phone = Label(self.left, text=\"Phone Number\", font=('arial 18 bold'), fg='black', bg='lightgreen')\n",
    "        self.phone.place(x=0, y=300)\n",
    "\n",
    "        # Entries for all labels============================================================\n",
    "        self.name_ent = Entry(self.left, width=30)\n",
    "        self.name_ent.place(x=250, y=100)\n",
    "\n",
    "        self.age_ent = Entry(self.left, width=30)\n",
    "        self.age_ent.place(x=250, y=140)\n",
    "    \n",
    "        self.gender_ent = Entry(self.left, width=30)\n",
    "        self.gender_ent.place(x=250, y=180)\n",
    "\n",
    "        self.location_ent = Entry(self.left, width=30)\n",
    "        self.location_ent.place(x=250, y=220)\n",
    "\n",
    "        self.time_ent = Entry(self.left, width=30)\n",
    "        self.time_ent.place(x=250, y=260)\n",
    "\n",
    "        self.phone_ent = Entry(self.left, width=30)\n",
    "        self.phone_ent.place(x=250, y=300)\n",
    "\n",
    "        # button to perform a command\n",
    "        self.submit = Button(self.left, text=\"Add Appointment\", width=20, height=2, bg='steelblue', command=self.add_appointment)\n",
    "        self.submit.place(x=300, y=340)\n",
    "    \n",
    "        # getting the number of appointments fixed to view in the log\n",
    "        sql2 = \"SELECT ID FROM appointments \"\n",
    "        self.result = c.execute(sql2)\n",
    "        for self.row in self.result:\n",
    "            self.id = self.row[0]\n",
    "            ids.append(self.id)\n",
    "        \n",
    "        # ordering the ids\n",
    "        self.new = sorted(ids)\n",
    "        self.final_id = self.new[len(ids)-1]\n",
    "        # displaying the logs in our right frame\n",
    "        self.logs = Label(self.right, text=\"Logs\", font=('arial 28 bold'), fg='white', bg='steelblue')\n",
    "        self.logs.place(x=0, y=0)\n",
    "\n",
    "        self.box = Text(self.right, width=50, height=40)\n",
    "        self.box.place(x=20, y=60)\n",
    "        self.box.insert(END, \"Total Appointments till now :  \" + str(self.final_id))\n",
    "    # funtion to call when the submit button is clicked\n",
    "    def add_appointment(self):\n",
    "        # getting the user inputs\n",
    "        self.val1 = self.name_ent.get()\n",
    "        self.val2 = self.age_ent.get()\n",
    "        self.val3 = self.gender_ent.get()\n",
    "        self.val4 = self.location_ent.get()\n",
    "        self.val5 = self.time_ent.get()\n",
    "        self.val6 = self.phone_ent.get()\n",
    "\n",
    "        # checking if the user input is empty\n",
    "        if self.val1 == '' or self.val2 == '' or self.val3 == '' or self.val4 == '' or self.val5 == '':\n",
    "            tkinter.messagebox.showinfo(\"Warning\", \"Please Fill Up All Boxes\")\n",
    "        else:\n",
    "            # now we add to the database\n",
    "            sql = \"INSERT INTO 'appointments' (name, age, gender, location, scheduled_time, phone) VALUES(?, ?, ?, ?, ?, ?)\"\n",
    "            c.execute(sql, (self.val1, self.val2, self.val3, self.val4, self.val5, self.val6))\n",
    "            conn.commit()\n",
    "            tkinter.messagebox.showinfo(\"Success\", \"Appointment for \" +str(self.val1) + \" has been created\" )\n",
    "            \n",
    "\n",
    "            self.box.insert(END, 'Appointment fixed for ' + str(self.val1) + ' at ' + str(self.val5))\n",
    "\n",
    "# creating the object\n",
    "root = Tk()\n",
    "b = Application(root)\n",
    "\n",
    "# resolution of the window\n",
    "root.geometry(\"1200x720+0+0\")\n",
    "\n",
    "# preventing the resize feature\n",
    "root.resizable(False, False)\n",
    "\n",
    "# end the loop\n",
    "root.mainloop()"
   ]
  },
  {
   "cell_type": "code",
   "execution_count": 13,
   "metadata": {},
   "outputs": [
    {
     "name": "stdout",
     "output_type": "stream",
     "text": [
      "Enter fruit name:: orange\n",
      "[0, 1, 'orange']\n",
      "[1, 2, 'orange']\n"
     ]
    }
   ],
   "source": [
    "fruits = (\"apple\",\"orange\",\"pineapple\")\n",
    "new_arrivals=(\"plum\",\"cherry\",\"orange\")\n",
    "grocery = fruits,new_arrivals\n",
    "user = input('Enter fruit name:: ')\n",
    "results=[]\n",
    "for row_index, row_value in enumerate(grocery):\n",
    "  for col_index,col_value in enumerate(row_value):\n",
    "   if user == col_value:\n",
    "    results.append([row_index,col_index,col_value])\n",
    "    \n",
    "if len(results)>1:\n",
    "    for i in results:\n",
    "        print(i)\n",
    "elif len(results)==1:\n",
    "    print(results)\n",
    "else:\n",
    "    print(\"We dont have that item\")\n",
    "    print(results)"
   ]
  },
  {
   "cell_type": "code",
   "execution_count": 14,
   "metadata": {},
   "outputs": [],
   "source": [
    "########## SETS ##################"
   ]
  },
  {
   "cell_type": "code",
   "execution_count": 15,
   "metadata": {},
   "outputs": [
    {
     "data": {
      "text/plain": [
       "set"
      ]
     },
     "execution_count": 15,
     "metadata": {},
     "output_type": "execute_result"
    }
   ],
   "source": [
    "a = {1,2,3}\n",
    "type(a)"
   ]
  },
  {
   "cell_type": "code",
   "execution_count": 16,
   "metadata": {},
   "outputs": [
    {
     "name": "stdout",
     "output_type": "stream",
     "text": [
      "{1, 2, 3, 4, 5, 6, 7, 33, 56} <class 'set'>\n"
     ]
    }
   ],
   "source": [
    "a= {1,2,3,4,5,2,3,4,5,6,7,4,3,2,2,33,4,56,6,3}\n",
    "print(a,type(a))"
   ]
  },
  {
   "cell_type": "code",
   "execution_count": 17,
   "metadata": {},
   "outputs": [
    {
     "name": "stdout",
     "output_type": "stream",
     "text": [
      "{'Arirudh'} <class 'set'>\n"
     ]
    }
   ],
   "source": [
    "## set with only one item\n",
    "a = {\"Arirudh\"}\n",
    "print(a,type(a))"
   ]
  },
  {
   "cell_type": "code",
   "execution_count": 19,
   "metadata": {},
   "outputs": [
    {
     "data": {
      "text/plain": [
       "set"
      ]
     },
     "execution_count": 19,
     "metadata": {},
     "output_type": "execute_result"
    }
   ],
   "source": [
    "# Set with no items\n",
    "a = set()\n",
    "type(a)"
   ]
  },
  {
   "cell_type": "code",
   "execution_count": 26,
   "metadata": {},
   "outputs": [
    {
     "data": {
      "text/plain": [
       "{'bugati', 'bugatti', 'ferrari', 'nissan GTR', 'tesla'}"
      ]
     },
     "execution_count": 26,
     "metadata": {},
     "output_type": "execute_result"
    }
   ],
   "source": [
    "cars = {\"tesla\",\"ferrari\",\"bugatti\",\"bugati\"}\n",
    "cars.add(\"nissan GTR\")\n",
    "cars"
   ]
  },
  {
   "cell_type": "code",
   "execution_count": 27,
   "metadata": {},
   "outputs": [
    {
     "data": {
      "text/plain": [
       "{'bugati',\n",
       " 'bugatti',\n",
       " 'ferrari',\n",
       " 'mcLaren570S',\n",
       " 'nissan GTR',\n",
       " 'porshe191',\n",
       " 'tesla'}"
      ]
     },
     "execution_count": 27,
     "metadata": {},
     "output_type": "execute_result"
    }
   ],
   "source": [
    "cars.update([\"porshe191\",\"mcLaren570S\"])\n",
    "cars"
   ]
  },
  {
   "cell_type": "code",
   "execution_count": 28,
   "metadata": {},
   "outputs": [
    {
     "data": {
      "text/plain": [
       "7"
      ]
     },
     "execution_count": 28,
     "metadata": {},
     "output_type": "execute_result"
    }
   ],
   "source": [
    "len(cars)"
   ]
  },
  {
   "cell_type": "code",
   "execution_count": 31,
   "metadata": {},
   "outputs": [
    {
     "data": {
      "text/plain": [
       "{'bugati', 'bugatti', 'ferrari', 'mcLaren570S', 'nissan GTR', 'tesla'}"
      ]
     },
     "execution_count": 31,
     "metadata": {},
     "output_type": "execute_result"
    }
   ],
   "source": [
    "#cars.remove(\"ducati\")\n",
    "cars.discard(\"ducati\")\n",
    "cars"
   ]
  },
  {
   "cell_type": "code",
   "execution_count": 32,
   "metadata": {},
   "outputs": [
    {
     "data": {
      "text/plain": [
       "{'bugati', 'bugatti', 'ferrari', 'nissan GTR', 'tesla'}"
      ]
     },
     "execution_count": 32,
     "metadata": {},
     "output_type": "execute_result"
    }
   ],
   "source": [
    "cars.pop()  # it removes the last added item not the last item\n",
    "cars"
   ]
  },
  {
   "cell_type": "code",
   "execution_count": 33,
   "metadata": {},
   "outputs": [],
   "source": [
    "cars.clear()"
   ]
  },
  {
   "cell_type": "code",
   "execution_count": 34,
   "metadata": {},
   "outputs": [
    {
     "data": {
      "text/plain": [
       "set()"
      ]
     },
     "execution_count": 34,
     "metadata": {},
     "output_type": "execute_result"
    }
   ],
   "source": [
    "cars"
   ]
  },
  {
   "cell_type": "code",
   "execution_count": 35,
   "metadata": {},
   "outputs": [
    {
     "data": {
      "text/plain": [
       "False"
      ]
     },
     "execution_count": 35,
     "metadata": {},
     "output_type": "execute_result"
    }
   ],
   "source": [
    "\"ducati\" in cars"
   ]
  },
  {
   "cell_type": "code",
   "execution_count": 37,
   "metadata": {},
   "outputs": [
    {
     "data": {
      "text/plain": [
       "{'bugati',\n",
       " 'bugatti',\n",
       " 'deepblue',\n",
       " 'ferrari',\n",
       " 'isro',\n",
       " 'mcLaren570S',\n",
       " 'nasa',\n",
       " 'nissan GTR',\n",
       " 'porshe191',\n",
       " 'tesla'}"
      ]
     },
     "execution_count": 37,
     "metadata": {},
     "output_type": "execute_result"
    }
   ],
   "source": [
    "rockets = {\"tesla\",\"nasa\",\"isro\",\"deepblue\"}\n",
    "cars = {'bugati','bugatti','ferrari','mcLaren570S','nissan GTR','porshe191','tesla'}\n",
    "rockets.union(cars)\n",
    "rockets|cars"
   ]
  },
  {
   "cell_type": "code",
   "execution_count": 38,
   "metadata": {},
   "outputs": [
    {
     "data": {
      "text/plain": [
       "{'deepblue', 'isro', 'nasa'}"
      ]
     },
     "execution_count": 38,
     "metadata": {},
     "output_type": "execute_result"
    }
   ],
   "source": [
    "rockets-cars"
   ]
  },
  {
   "cell_type": "code",
   "execution_count": 39,
   "metadata": {},
   "outputs": [
    {
     "data": {
      "text/plain": [
       "{'tesla'}"
      ]
     },
     "execution_count": 39,
     "metadata": {},
     "output_type": "execute_result"
    }
   ],
   "source": [
    "rockets.intersection(cars)"
   ]
  },
  {
   "cell_type": "code",
   "execution_count": 41,
   "metadata": {},
   "outputs": [
    {
     "data": {
      "text/plain": [
       "{'tesla'}"
      ]
     },
     "execution_count": 41,
     "metadata": {},
     "output_type": "execute_result"
    }
   ],
   "source": [
    "rockets&cars"
   ]
  },
  {
   "cell_type": "code",
   "execution_count": 42,
   "metadata": {},
   "outputs": [
    {
     "data": {
      "text/plain": [
       "{'bugati',\n",
       " 'bugatti',\n",
       " 'deepblue',\n",
       " 'ferrari',\n",
       " 'isro',\n",
       " 'mcLaren570S',\n",
       " 'nasa',\n",
       " 'nissan GTR',\n",
       " 'porshe191'}"
      ]
     },
     "execution_count": 42,
     "metadata": {},
     "output_type": "execute_result"
    }
   ],
   "source": [
    "rockets^cars"
   ]
  },
  {
   "cell_type": "code",
   "execution_count": 45,
   "metadata": {},
   "outputs": [
    {
     "data": {
      "text/plain": [
       "True"
      ]
     },
     "execution_count": 45,
     "metadata": {},
     "output_type": "execute_result"
    }
   ],
   "source": [
    "suv = {\"ferrari\",\"bugatti\"}\n",
    "suv.issubset(cars)"
   ]
  },
  {
   "cell_type": "code",
   "execution_count": 47,
   "metadata": {},
   "outputs": [
    {
     "data": {
      "text/plain": [
       "True"
      ]
     },
     "execution_count": 47,
     "metadata": {},
     "output_type": "execute_result"
    }
   ],
   "source": [
    "cars.issuperset(suv)"
   ]
  },
  {
   "cell_type": "code",
   "execution_count": null,
   "metadata": {},
   "outputs": [],
   "source": []
  }
 ],
 "metadata": {
  "kernelspec": {
   "display_name": "Python 3",
   "language": "python",
   "name": "python3"
  },
  "language_info": {
   "codemirror_mode": {
    "name": "ipython",
    "version": 3
   },
   "file_extension": ".py",
   "mimetype": "text/x-python",
   "name": "python",
   "nbconvert_exporter": "python",
   "pygments_lexer": "ipython3",
   "version": "3.7.4"
  },
  "latex_envs": {
   "LaTeX_envs_menu_present": true,
   "autoclose": false,
   "autocomplete": true,
   "bibliofile": "biblio.bib",
   "cite_by": "apalike",
   "current_citInitial": 1,
   "eqLabelWithNumbers": true,
   "eqNumInitial": 1,
   "hotkeys": {
    "equation": "Ctrl-E",
    "itemize": "Ctrl-I"
   },
   "labels_anchors": false,
   "latex_user_defs": false,
   "report_style_numbering": false,
   "user_envs_cfg": false
  },
  "toc": {
   "base_numbering": 1,
   "nav_menu": {},
   "number_sections": true,
   "sideBar": true,
   "skip_h1_title": false,
   "title_cell": "Table of Contents",
   "title_sidebar": "Contents",
   "toc_cell": false,
   "toc_position": {},
   "toc_section_display": true,
   "toc_window_display": false
  },
  "varInspector": {
   "cols": {
    "lenName": 16,
    "lenType": 16,
    "lenVar": 40
   },
   "kernels_config": {
    "python": {
     "delete_cmd_postfix": "",
     "delete_cmd_prefix": "del ",
     "library": "var_list.py",
     "varRefreshCmd": "print(var_dic_list())"
    },
    "r": {
     "delete_cmd_postfix": ") ",
     "delete_cmd_prefix": "rm(",
     "library": "var_list.r",
     "varRefreshCmd": "cat(var_dic_list()) "
    }
   },
   "types_to_exclude": [
    "module",
    "function",
    "builtin_function_or_method",
    "instance",
    "_Feature"
   ],
   "window_display": false
  }
 },
 "nbformat": 4,
 "nbformat_minor": 2
}
