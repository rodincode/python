{
 "cells": [
  {
   "cell_type": "code",
   "execution_count": 3,
   "metadata": {},
   "outputs": [
    {
     "name": "stdout",
     "output_type": "stream",
     "text": [
      "BEST FIT LINE:: y=-4.82+1.26x\n"
     ]
    },
    {
     "data": {
      "image/png": "[encoded data removed]",
      "text/plain": [
       "<Figure size 432x288 with 1 Axes>"
      ]
     },
     "metadata": {
      "needs_background": "light"
     },
     "output_type": "display_data"
    }
   ],
   "source": [
    "import numpy as np\n",
    "import matplotlib.pyplot as plt\n",
    "X=[0,10,25,36,55]\n",
    "Y=[0,5,20,44,66]\n",
    "\n",
    "#Find the line of best fit---> y=mx+c\n",
    "#i.e.find m(num) and find c(rest)\n",
    "sumx=0\n",
    "sumy=0\n",
    "for i in X:\n",
    "    sumx=sumx+i\n",
    "for i in Y:\n",
    "    sumy=sumy+i\n",
    "\n",
    "def best_fit(X,Y):\n",
    "    avgx=sum(X)/len(X)\n",
    "    avgy=sum(Y)/len(Y)\n",
    "    \n",
    "    c=[i*j for i,j in zip(X,Y)]\n",
    "    d=[i**2 for i in X]\n",
    "    #print(c)\n",
    "    #print(d)\n",
    "    sumc=0\n",
    "    sumd=0\n",
    "    for i in c:\n",
    "        sumc=sumc+i\n",
    "    for i in d:\n",
    "        sumd=sumd+i\n",
    "    #sum of multiplication of elements of X,Y    \n",
    "    #sum of x^2\n",
    "    #num=len(X)*sumc-sumx*sumy  # N SUM(xy)-SUM(x)SUM(y) \n",
    "    #dem=len(X)*sumd-sumx**2      # N SUM(x**2)-(SUM(x))**2\n",
    "    \n",
    "    num = sumc - len(X) * np.mean(X) * np.mean(Y)\n",
    "    den = sumd - len(X) * np.mean(X)**2\n",
    "    \n",
    "    m=num/den                   #m =  N Σ(xy) − Σx Σy/ N Σ(x2) − (Σx)2\n",
    "    c=avgy-m*avgx  #c =  Σy − m ΣxN\n",
    "    \n",
    "    print(\"BEST FIT LINE:: y={:.2f}+{:.2f}x\".format(c,m))  # rest---> c,  num---> m\n",
    "    \n",
    "    \n",
    "    return c,m\n",
    "\n",
    "\n",
    "c,m=best_fit(X,Y)\n",
    "\n",
    "plt.scatter(X,Y)\n",
    "\n",
    "reg_line=[(m*x)+c for x in X]\n",
    "plt.plot(X,reg_line,\"r-\")\n",
    "plt.show()\n",
    "\n",
    "\n"
   ]
  },
  {
   "cell_type": "code",
   "execution_count": null,
   "metadata": {},
   "outputs": [],
   "source": []
  }
 ],
 "metadata": {
  "kernelspec": {
   "display_name": "Python 3",
   "language": "python",
   "name": "python3"
  },
  "language_info": {
   "codemirror_mode": {
    "name": "ipython",
    "version": 3
   },
   "file_extension": ".py",
   "mimetype": "text/x-python",
   "name": "python",
   "nbconvert_exporter": "python",
   "pygments_lexer": "ipython3",
   "version": "3.7.4"
  },
  "latex_envs": {
   "LaTeX_envs_menu_present": true,
   "autoclose": false,
   "autocomplete": true,
   "bibliofile": "biblio.bib",
   "cite_by": "apalike",
   "current_citInitial": 1,
   "eqLabelWithNumbers": true,
   "eqNumInitial": 1,
   "hotkeys": {
    "equation": "Ctrl-E",
    "itemize": "Ctrl-I"
   },
   "labels_anchors": false,
   "latex_user_defs": false,
   "report_style_numbering": false,
   "user_envs_cfg": false
  },
  "toc": {
   "base_numbering": 1,
   "nav_menu": {},
   "number_sections": true,
   "sideBar": true,
   "skip_h1_title": false,
   "title_cell": "Table of Contents",
   "title_sidebar": "Contents",
   "toc_cell": false,
   "toc_position": {},
   "toc_section_display": true,
   "toc_window_display": false
  },
  "varInspector": {
   "cols": {
    "lenName": 16,
    "lenType": 16,
    "lenVar": 40
   },
   "kernels_config": {
    "python": {
     "delete_cmd_postfix": "",
     "delete_cmd_prefix": "del ",
     "library": "var_list.py",
     "varRefreshCmd": "print(var_dic_list())"
    },
    "r": {
     "delete_cmd_postfix": ") ",
     "delete_cmd_prefix": "rm(",
     "library": "var_list.r",
     "varRefreshCmd": "cat(var_dic_list()) "
    }
   },
   "types_to_exclude": [
    "module",
    "function",
    "builtin_function_or_method",
    "instance",
    "_Feature"
   ],
   "window_display": false
  }
 },
 "nbformat": 4,
 "nbformat_minor": 2
}
