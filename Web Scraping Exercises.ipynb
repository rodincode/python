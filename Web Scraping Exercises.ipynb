{
 "cells": [
  {
   "cell_type": "code",
   "execution_count": null,
   "metadata": {},
   "outputs": [],
   "source": []
  },
  {
   "cell_type": "code",
   "execution_count": 50,
   "metadata": {},
   "outputs": [
    {
     "name": "stdout",
     "output_type": "stream",
     "text": [
      "Heading: Rex Stout bibliography\n",
      "Heading: Contents\n",
      "Heading: Nero Wolfe corpus[edit]\n",
      "Heading: Nero Wolfe books[edit]\n",
      "Heading: Other Nero Wolfe works[edit]\n",
      "Heading: Works related to Nero Wolfe[edit]\n",
      "Heading: Other works[edit]\n",
      "Heading: Novels[edit]\n",
      "Heading: Short stories[edit]\n",
      "Heading: Edited volumes[edit]\n",
      "Heading: Poetry[edit]\n",
      "Heading: Books about Rex Stout and Nero Wolfe[edit]\n",
      "Heading: Notes[edit]\n",
      "Heading: References[edit]\n",
      "Heading: Navigation menu\n",
      "Heading: \n",
      "Personal tools\n",
      "\n",
      "Heading: \n",
      "Namespaces\n",
      "\n",
      "Heading: \n",
      "Variants\n",
      "\n",
      "Heading: \n",
      "Views\n",
      "\n",
      "Heading: \n",
      "More\n",
      "\n",
      "Heading: \n",
      "Search\n",
      "\n",
      "Heading: \n",
      "Navigation\n",
      "\n",
      "Heading: \n",
      "Contribute\n",
      "\n",
      "Heading: \n",
      "Tools\n",
      "\n",
      "Heading: \n",
      "Print/export\n",
      "\n",
      "Heading: \n",
      "Languages\n",
      "\n"
     ]
    }
   ],
   "source": [
    "import requests\n",
    "from bs4 import BeautifulSoup\n",
    "\n",
    "url = \"https://en.wikipedia.org/wiki/Rex_Stout_bibliography\"\n",
    "\n",
    "response = requests.get(url)\n",
    "soup = BeautifulSoup(response.content, 'html.parser')\n",
    "\n",
    "for a in soup.find_all([\"h1\",\"h2\",\"h3\",\"h4\",\"h5\",\"h6\"]):\n",
    "    print(\"Heading:\", a.text) "
   ]
  },
  {
   "cell_type": "code",
   "execution_count": 10,
   "metadata": {},
   "outputs": [],
   "source": [
    "#Find the summary of top 10 IMBD Movies\n",
    "\n",
    "import requests\n",
    "from bs4 import BeautifulSoup\n",
    "\n",
    "def movies(url):\n",
    "    response = requests.get(url)\n",
    "    soup = BeautifulSoup(response.text, 'html.parser')\n",
    "    movie=soup.find_all('td',class_='titleColumn')\n",
    "    return (movie)\n",
    "\n",
    "def movie_summary(url):\n",
    "    response=requests.get(url)\n",
    "    soup = BeautifulSoup(response.text, 'html')\n",
    "    return soup.find(\"div\",class_=\"summary_text\").contents[0].string\n",
    "\n",
    "def find_info(movie):\n",
    "    title=movie.a.contents[0]\n",
    "    year=movie.span.contents[0]\n",
    "    url = 'http://www.imdb.com' + movie.a['href']\n",
    "    return title,year,url\n",
    "\n",
    "\n",
    "def main():\n",
    "    counter=0\n",
    "    for movie in movies('http://www.imdb.com/chart/top'):\n",
    "        counter+=1\n",
    "        title,year,url=find_info(movie)\n",
    "        summary=movie_summary(url)\n",
    "        print(title,year)\n",
    "        print(summary)\n",
    "        print()\n",
    "        if counter==10:\n",
    "            break\n"
   ]
  },
  {
   "cell_type": "code",
   "execution_count": 11,
   "metadata": {},
   "outputs": [
    {
     "name": "stdout",
     "output_type": "stream",
     "text": [
      "The Shawshank Redemption (1994)\n",
      "\n",
      "                    Two imprisoned men bond over a number of years, finding solace and eventual redemption through acts of common decency.\n",
      "            \n",
      "\n",
      "The Godfather (1972)\n",
      "\n",
      "                    The aging patriarch of an organized crime dynasty transfers control of his clandestine empire to his reluctant son.\n",
      "            \n",
      "\n",
      "The Godfather: Part II (1974)\n",
      "\n",
      "                    The early life and career of Vito Corleone in 1920s New York City is portrayed, while his son, Michael, expands and tightens his grip on the family crime syndicate.\n",
      "            \n",
      "\n",
      "The Dark Knight (2008)\n",
      "\n",
      "                    When the menace known as the Joker wreaks havoc and chaos on the people of Gotham, Batman must accept one of the greatest psychological and physical tests of his ability to fight injustice.\n",
      "            \n",
      "\n",
      "12 Angry Men (1957)\n",
      "\n",
      "                    A jury holdout attempts to prevent a miscarriage of justice by forcing his colleagues to reconsider the evidence.\n",
      "            \n",
      "\n",
      "Schindler's List (1993)\n",
      "\n",
      "                    In German-occupied Poland during World War II, industrialist \n",
      "\n",
      "The Lord of the Rings: The Return of the King (2003)\n",
      "\n",
      "                    Gandalf and Aragorn lead the World of Men against Sauron's army to draw his gaze from Frodo and Sam as they approach Mount Doom with the One Ring.\n",
      "            \n",
      "\n",
      "Pulp Fiction (1994)\n",
      "\n",
      "                    The lives of two mob hitmen, a boxer, a gangster and his wife, and a pair of diner bandits intertwine in four tales of violence and redemption.\n",
      "            \n",
      "\n",
      "Il buono, il brutto, il cattivo (1966)\n",
      "\n",
      "                    A bounty hunting scam joins two men in an uneasy alliance against a third in a race to find a fortune in gold buried in a remote cemetery.\n",
      "            \n",
      "\n",
      "The Lord of the Rings: The Fellowship of the Ring (2001)\n",
      "\n",
      "                    A meek Hobbit from the Shire and eight companions set out on a journey to destroy the powerful One Ring and save Middle-earth from the Dark Lord Sauron.\n",
      "            \n",
      "\n"
     ]
    }
   ],
   "source": [
    "#movies('https://www.imdb.com/chart/top')\n",
    "main()"
   ]
  },
  {
   "cell_type": "code",
   "execution_count": 17,
   "metadata": {},
   "outputs": [
    {
     "ename": "AttributeError",
     "evalue": "'NoneType' object has no attribute 'find_all'",
     "output_type": "error",
     "traceback": [
      "\u001b[1;31m---------------------------------------------------------------------------\u001b[0m",
      "\u001b[1;31mAttributeError\u001b[0m                            Traceback (most recent call last)",
      "\u001b[1;32m<ipython-input-17-7a82b6d5b93b>\u001b[0m in \u001b[0;36m<module>\u001b[1;34m\u001b[0m\n\u001b[0;32m     13\u001b[0m \u001b[1;33m\u001b[0m\u001b[0m\n\u001b[0;32m     14\u001b[0m \u001b[0mheaders\u001b[0m \u001b[1;33m=\u001b[0m \u001b[1;33m[\u001b[0m\u001b[1;33m]\u001b[0m\u001b[1;33m\u001b[0m\u001b[1;33m\u001b[0m\u001b[0m\n\u001b[1;32m---> 15\u001b[1;33m \u001b[1;32mfor\u001b[0m \u001b[0mi\u001b[0m \u001b[1;32min\u001b[0m \u001b[0mtable_data\u001b[0m\u001b[1;33m.\u001b[0m\u001b[0mfind_all\u001b[0m\u001b[1;33m(\u001b[0m\u001b[1;34m'td'\u001b[0m\u001b[1;33m)\u001b[0m\u001b[1;33m:\u001b[0m\u001b[1;33m\u001b[0m\u001b[1;33m\u001b[0m\u001b[0m\n\u001b[0m\u001b[0;32m     16\u001b[0m     \u001b[0mtitle\u001b[0m \u001b[1;33m=\u001b[0m \u001b[0mi\u001b[0m\u001b[1;33m.\u001b[0m\u001b[0mtext\u001b[0m\u001b[1;33m\u001b[0m\u001b[1;33m\u001b[0m\u001b[0m\n\u001b[0;32m     17\u001b[0m     \u001b[0mprint\u001b[0m\u001b[1;33m(\u001b[0m\u001b[0mtitle\u001b[0m\u001b[1;33m)\u001b[0m\u001b[1;33m\u001b[0m\u001b[1;33m\u001b[0m\u001b[0m\n",
      "\u001b[1;31mAttributeError\u001b[0m: 'NoneType' object has no attribute 'find_all'"
     ]
    }
   ],
   "source": [
    "import requests\n",
    "from bs4 import BeautifulSoup\n",
    "import pandas as pd\n",
    "\n",
    "url = 'https://www.worldometers.info/coronavirus/'\n",
    "requests.get(url)\n",
    "page = requests.get(url)\n",
    "\n",
    "soup = BeautifulSoup(page.text, 'lxml')\n",
    "#print(soup)\n",
    "\n",
    "table_data = soup.find('table', class_ = 'table table-striped table-bordered table-hover table-condensed table-list')\n",
    "\n",
    "headers = []\n",
    "for i in table_data.find_all('td'):\n",
    "    title = i.text\n",
    "    print(title)"
   ]
  },
  {
   "cell_type": "code",
   "execution_count": 13,
   "metadata": {},
   "outputs": [
    {
     "name": "stdout",
     "output_type": "stream",
     "text": [
      "Urban Population\n"
     ]
    }
   ],
   "source": [
    "print(title)"
   ]
  },
  {
   "cell_type": "code",
   "execution_count": null,
   "metadata": {},
   "outputs": [],
   "source": []
  }
 ],
 "metadata": {
  "kernelspec": {
   "display_name": "Python 3",
   "language": "python",
   "name": "python3"
  },
  "language_info": {
   "codemirror_mode": {
    "name": "ipython",
    "version": 3
   },
   "file_extension": ".py",
   "mimetype": "text/x-python",
   "name": "python",
   "nbconvert_exporter": "python",
   "pygments_lexer": "ipython3",
   "version": "3.7.4"
  },
  "latex_envs": {
   "LaTeX_envs_menu_present": true,
   "autoclose": false,
   "autocomplete": true,
   "bibliofile": "biblio.bib",
   "cite_by": "apalike",
   "current_citInitial": 1,
   "eqLabelWithNumbers": true,
   "eqNumInitial": 1,
   "hotkeys": {
    "equation": "Ctrl-E",
    "itemize": "Ctrl-I"
   },
   "labels_anchors": false,
   "latex_user_defs": false,
   "report_style_numbering": false,
   "user_envs_cfg": false
  },
  "toc": {
   "base_numbering": 1,
   "nav_menu": {},
   "number_sections": true,
   "sideBar": true,
   "skip_h1_title": false,
   "title_cell": "Table of Contents",
   "title_sidebar": "Contents",
   "toc_cell": false,
   "toc_position": {},
   "toc_section_display": true,
   "toc_window_display": false
  },
  "varInspector": {
   "cols": {
    "lenName": 16,
    "lenType": 16,
    "lenVar": 40
   },
   "kernels_config": {
    "python": {
     "delete_cmd_postfix": "",
     "delete_cmd_prefix": "del ",
     "library": "var_list.py",
     "varRefreshCmd": "print(var_dic_list())"
    },
    "r": {
     "delete_cmd_postfix": ") ",
     "delete_cmd_prefix": "rm(",
     "library": "var_list.r",
     "varRefreshCmd": "cat(var_dic_list()) "
    }
   },
   "types_to_exclude": [
    "module",
    "function",
    "builtin_function_or_method",
    "instance",
    "_Feature"
   ],
   "window_display": false
  }
 },
 "nbformat": 4,
 "nbformat_minor": 2
}
